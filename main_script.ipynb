{
 "cells": [
  {
   "cell_type": "code",
   "execution_count": 1,
   "metadata": {},
   "outputs": [],
   "source": [
    "import pandas as pd\n",
    "import matplotlib.pyplot as plt\n",
    "import numpy as np\n",
    "import seaborn as sns"
   ]
  },
  {
   "cell_type": "markdown",
   "metadata": {},
   "source": [
    "## Punto 1"
   ]
  },
  {
   "cell_type": "code",
   "execution_count": 2,
   "metadata": {},
   "outputs": [],
   "source": [
    "from pathlib import Path\n",
    "Path('my_data.db').touch()"
   ]
  },
  {
   "cell_type": "code",
   "execution_count": 3,
   "metadata": {},
   "outputs": [],
   "source": [
    "import sqlite3\n",
    "conn = sqlite3.connect('my_data.db')\n",
    "c = conn.cursor()"
   ]
  },
  {
   "cell_type": "markdown",
   "metadata": {},
   "source": [
    "## Punto 2"
   ]
  },
  {
   "cell_type": "code",
   "execution_count": null,
   "metadata": {},
   "outputs": [],
   "source": [
    "c.execute('''CREATE TABLE big_bang_theory (Location text, Scene text, Text text, Speaker text, Season int)''')"
   ]
  },
  {
   "cell_type": "code",
   "execution_count": 5,
   "metadata": {},
   "outputs": [
    {
     "data": {
      "text/plain": [
       "38918"
      ]
     },
     "execution_count": 5,
     "metadata": {},
     "output_type": "execute_result"
    }
   ],
   "source": [
    "big_bang_df = pd.read_csv('big_bang_theory_dataset.csv', usecols=['Location', 'Scene', 'Text', 'Speaker', 'Season'])\n",
    "# write the data to a sqlite table\n",
    "big_bang_df.to_sql('big_bang_theory', conn, if_exists='append', index = False)"
   ]
  },
  {
   "cell_type": "code",
   "execution_count": 6,
   "metadata": {},
   "outputs": [
    {
     "data": {
      "text/plain": [
       "[('The apartment', None, 'Again I’m right here.', 'Leonard', 3),\n",
       " ('The apartment',\n",
       "  None,\n",
       "  'Fine. The record shall so reflect. Now getting back to the problem at hand what to do with a washed-up experimental physicist.',\n",
       "  'Sheldon',\n",
       "  5),\n",
       " ('The room in the basement',\n",
       "  ' Sheldon enters, takes out a box, takes a beanbag from the box, then starts playing keepie-uppie,',\n",
       "  'One two three four five six seven eight… Drat. I’m never going to get to forty-three again. One two three four… Rats.',\n",
       "  'Sheldon',\n",
       "  6),\n",
       " ('Sheldon and Amy’s bedroom',\n",
       "  None,\n",
       "  'I’m not sure. Earlier tonight things began organically and now it’s feeling forced like all the Pirates of the Caribbean sequels.',\n",
       "  'Sheldon',\n",
       "  10),\n",
       " ('A cinema', None, 'He’s finding the acoustic sweet spot.', 'Leonard', 2)]"
      ]
     },
     "execution_count": 6,
     "metadata": {},
     "output_type": "execute_result"
    }
   ],
   "source": [
    "c.execute('''SELECT * FROM big_bang_theory LIMIT 5''').fetchall() #"
   ]
  },
  {
   "cell_type": "code",
   "execution_count": 7,
   "metadata": {},
   "outputs": [],
   "source": [
    "values = {\"Text\": \"\"}\n",
    "big_bang_df = big_bang_df.fillna(value=values)"
   ]
  },
  {
   "cell_type": "markdown",
   "metadata": {},
   "source": [
    "## Punto 3"
   ]
  },
  {
   "cell_type": "code",
   "execution_count": 8,
   "metadata": {},
   "outputs": [
    {
     "data": {
      "text/html": [
       "<div>\n",
       "<style scoped>\n",
       "    .dataframe tbody tr th:only-of-type {\n",
       "        vertical-align: middle;\n",
       "    }\n",
       "\n",
       "    .dataframe tbody tr th {\n",
       "        vertical-align: top;\n",
       "    }\n",
       "\n",
       "    .dataframe thead th {\n",
       "        text-align: right;\n",
       "    }\n",
       "</style>\n",
       "<table border=\"1\" class=\"dataframe\">\n",
       "  <thead>\n",
       "    <tr style=\"text-align: right;\">\n",
       "      <th></th>\n",
       "      <th>Location</th>\n",
       "      <th>Scene</th>\n",
       "      <th>Text</th>\n",
       "      <th>Speaker</th>\n",
       "      <th>Season</th>\n",
       "    </tr>\n",
       "  </thead>\n",
       "  <tbody>\n",
       "    <tr>\n",
       "      <th>35</th>\n",
       "      <td>Penny’s car</td>\n",
       "      <td>NaN</td>\n",
       "      <td>Because he’s not like us Penny. We’re dreamers.</td>\n",
       "      <td>Sheldon</td>\n",
       "      <td>7</td>\n",
       "    </tr>\n",
       "    <tr>\n",
       "      <th>47</th>\n",
       "      <td>Penny’s door</td>\n",
       "      <td>NaN</td>\n",
       "      <td>Penny.</td>\n",
       "      <td>Sheldon</td>\n",
       "      <td>4</td>\n",
       "    </tr>\n",
       "    <tr>\n",
       "      <th>125</th>\n",
       "      <td>Sheldon and Amy’s apartment</td>\n",
       "      <td>NaN</td>\n",
       "      <td>This isn’t fair. You’ve discussed aspects of o...</td>\n",
       "      <td>Sheldon</td>\n",
       "      <td>10</td>\n",
       "    </tr>\n",
       "    <tr>\n",
       "      <th>185</th>\n",
       "      <td>The apartment</td>\n",
       "      <td>NaN</td>\n",
       "      <td>Penny please we’re facing a far more serious p...</td>\n",
       "      <td>Sheldon</td>\n",
       "      <td>2</td>\n",
       "    </tr>\n",
       "    <tr>\n",
       "      <th>503</th>\n",
       "      <td>Penny’s apartment</td>\n",
       "      <td>Sheldon and Leonard are trying to construct f...</td>\n",
       "      <td>Hang on Penny. How about fans here and here?</td>\n",
       "      <td>Sheldon</td>\n",
       "      <td>1</td>\n",
       "    </tr>\n",
       "    <tr>\n",
       "      <th>...</th>\n",
       "      <td>...</td>\n",
       "      <td>...</td>\n",
       "      <td>...</td>\n",
       "      <td>...</td>\n",
       "      <td>...</td>\n",
       "    </tr>\n",
       "    <tr>\n",
       "      <th>38332</th>\n",
       "      <td>The following morning</td>\n",
       "      <td>Sheldon is in the kitchen making breakfast, H...</td>\n",
       "      <td>Well then it’s all settled Christie will stay ...</td>\n",
       "      <td>Sheldon</td>\n",
       "      <td>1</td>\n",
       "    </tr>\n",
       "    <tr>\n",
       "      <th>38424</th>\n",
       "      <td>Amy’s apartment</td>\n",
       "      <td>Amy is playing a harp,</td>\n",
       "      <td>Penny has dragged a chair in off the street wh...</td>\n",
       "      <td>Sheldon</td>\n",
       "      <td>5</td>\n",
       "    </tr>\n",
       "    <tr>\n",
       "      <th>38590</th>\n",
       "      <td>The living room</td>\n",
       "      <td>Leonard enters in his dressing gown, There is...</td>\n",
       "      <td>But we did convince him to leave the motel. Co...</td>\n",
       "      <td>Sheldon</td>\n",
       "      <td>1</td>\n",
       "    </tr>\n",
       "    <tr>\n",
       "      <th>38708</th>\n",
       "      <td>Penny’s apartment</td>\n",
       "      <td>NaN</td>\n",
       "      <td>Penny!</td>\n",
       "      <td>Sheldon</td>\n",
       "      <td>5</td>\n",
       "    </tr>\n",
       "    <tr>\n",
       "      <th>38876</th>\n",
       "      <td>The laundry room</td>\n",
       "      <td>NaN</td>\n",
       "      <td>Yes Penny has a lot of her money tied up in pr...</td>\n",
       "      <td>Sheldon</td>\n",
       "      <td>5</td>\n",
       "    </tr>\n",
       "  </tbody>\n",
       "</table>\n",
       "<p>367 rows × 5 columns</p>\n",
       "</div>"
      ],
      "text/plain": [
       "                          Location  \\\n",
       "35                     Penny’s car   \n",
       "47                    Penny’s door   \n",
       "125    Sheldon and Amy’s apartment   \n",
       "185                  The apartment   \n",
       "503              Penny’s apartment   \n",
       "...                            ...   \n",
       "38332        The following morning   \n",
       "38424              Amy’s apartment   \n",
       "38590              The living room   \n",
       "38708            Penny’s apartment   \n",
       "38876             The laundry room   \n",
       "\n",
       "                                                   Scene  \\\n",
       "35                                                   NaN   \n",
       "47                                                   NaN   \n",
       "125                                                  NaN   \n",
       "185                                                  NaN   \n",
       "503     Sheldon and Leonard are trying to construct f...   \n",
       "...                                                  ...   \n",
       "38332   Sheldon is in the kitchen making breakfast, H...   \n",
       "38424                             Amy is playing a harp,   \n",
       "38590   Leonard enters in his dressing gown, There is...   \n",
       "38708                                                NaN   \n",
       "38876                                                NaN   \n",
       "\n",
       "                                                    Text  Speaker  Season  \n",
       "35       Because he’s not like us Penny. We’re dreamers.  Sheldon       7  \n",
       "47                                                Penny.  Sheldon       4  \n",
       "125    This isn’t fair. You’ve discussed aspects of o...  Sheldon      10  \n",
       "185    Penny please we’re facing a far more serious p...  Sheldon       2  \n",
       "503         Hang on Penny. How about fans here and here?  Sheldon       1  \n",
       "...                                                  ...      ...     ...  \n",
       "38332  Well then it’s all settled Christie will stay ...  Sheldon       1  \n",
       "38424  Penny has dragged a chair in off the street wh...  Sheldon       5  \n",
       "38590  But we did convince him to leave the motel. Co...  Sheldon       1  \n",
       "38708                                             Penny!  Sheldon       5  \n",
       "38876  Yes Penny has a lot of her money tied up in pr...  Sheldon       5  \n",
       "\n",
       "[367 rows x 5 columns]"
      ]
     },
     "execution_count": 8,
     "metadata": {},
     "output_type": "execute_result"
    }
   ],
   "source": [
    "big_bang_df.loc[(big_bang_df.Speaker == \"Sheldon\") & (big_bang_df['Text'].str.contains(\"Penny\"))]"
   ]
  },
  {
   "cell_type": "code",
   "execution_count": 9,
   "metadata": {},
   "outputs": [
    {
     "data": {
      "text/html": [
       "<div>\n",
       "<style scoped>\n",
       "    .dataframe tbody tr th:only-of-type {\n",
       "        vertical-align: middle;\n",
       "    }\n",
       "\n",
       "    .dataframe tbody tr th {\n",
       "        vertical-align: top;\n",
       "    }\n",
       "\n",
       "    .dataframe thead th {\n",
       "        text-align: right;\n",
       "    }\n",
       "</style>\n",
       "<table border=\"1\" class=\"dataframe\">\n",
       "  <thead>\n",
       "    <tr style=\"text-align: right;\">\n",
       "      <th></th>\n",
       "      <th>Location</th>\n",
       "      <th>Scene</th>\n",
       "      <th>Text</th>\n",
       "      <th>Speaker</th>\n",
       "      <th>Season</th>\n",
       "    </tr>\n",
       "  </thead>\n",
       "  <tbody>\n",
       "    <tr>\n",
       "      <th>1722</th>\n",
       "      <td>The stairs</td>\n",
       "      <td>Sheldon is playing on his computer at the end...</td>\n",
       "      <td>Penny.</td>\n",
       "      <td>Sheldon</td>\n",
       "      <td>2</td>\n",
       "    </tr>\n",
       "    <tr>\n",
       "      <th>2477</th>\n",
       "      <td>Penny’s apartment</td>\n",
       "      <td>NaN</td>\n",
       "      <td>Penny.</td>\n",
       "      <td>Sheldon</td>\n",
       "      <td>2</td>\n",
       "    </tr>\n",
       "    <tr>\n",
       "      <th>13029</th>\n",
       "      <td>At Penny’s door</td>\n",
       "      <td>Leonard knocks three times,</td>\n",
       "      <td>Penny.</td>\n",
       "      <td>Sheldon</td>\n",
       "      <td>4</td>\n",
       "    </tr>\n",
       "    <tr>\n",
       "      <th>16842</th>\n",
       "      <td>Outside Penny’s door</td>\n",
       "      <td>NaN</td>\n",
       "      <td>Penny.</td>\n",
       "      <td>Sheldon</td>\n",
       "      <td>2</td>\n",
       "    </tr>\n",
       "    <tr>\n",
       "      <th>26974</th>\n",
       "      <td>Penny’s apartment</td>\n",
       "      <td>NaN</td>\n",
       "      <td>Penny.</td>\n",
       "      <td>Sheldon</td>\n",
       "      <td>2</td>\n",
       "    </tr>\n",
       "    <tr>\n",
       "      <th>36322</th>\n",
       "      <td>Penny’s apartment door</td>\n",
       "      <td>Sheldon knocks three times,</td>\n",
       "      <td>Penny.</td>\n",
       "      <td>Sheldon</td>\n",
       "      <td>5</td>\n",
       "    </tr>\n",
       "  </tbody>\n",
       "</table>\n",
       "</div>"
      ],
      "text/plain": [
       "                     Location  \\\n",
       "1722               The stairs   \n",
       "2477        Penny’s apartment   \n",
       "13029         At Penny’s door   \n",
       "16842    Outside Penny’s door   \n",
       "26974       Penny’s apartment   \n",
       "36322  Penny’s apartment door   \n",
       "\n",
       "                                                   Scene    Text  Speaker  \\\n",
       "1722    Sheldon is playing on his computer at the end...  Penny.  Sheldon   \n",
       "2477                                                 NaN  Penny.  Sheldon   \n",
       "13029                        Leonard knocks three times,  Penny.  Sheldon   \n",
       "16842                                                NaN  Penny.  Sheldon   \n",
       "26974                                                NaN  Penny.  Sheldon   \n",
       "36322                        Sheldon knocks three times,  Penny.  Sheldon   \n",
       "\n",
       "       Season  \n",
       "1722        2  \n",
       "2477        2  \n",
       "13029       4  \n",
       "16842       2  \n",
       "26974       2  \n",
       "36322       5  "
      ]
     },
     "execution_count": 9,
     "metadata": {},
     "output_type": "execute_result"
    }
   ],
   "source": [
    "big_bang_df.loc[(big_bang_df.Speaker == \"Sheldon\") & (big_bang_df.Text == \"Penny.\")]"
   ]
  },
  {
   "cell_type": "code",
   "execution_count": 10,
   "metadata": {},
   "outputs": [
    {
     "data": {
      "image/png": "[encoded data removed]",
      "text/plain": [
       "<Figure size 1500x600 with 2 Axes>"
      ]
     },
     "metadata": {},
     "output_type": "display_data"
    }
   ],
   "source": [
    "fig, axs = plt.subplots(2, 1, figsize=(15, 6))\n",
    "\n",
    "sns.histplot(data = big_bang_df.loc[(big_bang_df.Speaker == \"Sheldon\") & (big_bang_df.Text.str.contains(\"Penny.\", case=False))], \n",
    "             x=\"Location\", \n",
    "             ax=axs[0], \n",
    "             color = \"blue\"\n",
    "            )\n",
    "sns.histplot(data = big_bang_df.loc[(big_bang_df.Speaker == \"Sheldon\") & (big_bang_df.Text == \"Penny.\")],\n",
    "            x=\"Location\", \n",
    "            ax=axs[1], \n",
    "            color = \"red\"\n",
    "            )\n",
    "\n",
    "lines = []\n",
    "labels = []\n",
    "\n",
    "for ax in fig.axes:\n",
    "    axLine, axLabel = ax.get_legend_handles_labels()\n",
    "    lines.extend(axLine)\n",
    "    labels.extend(axLabel)\n",
    "\n",
    "fig.legend(lines, labels, loc = 'upper right')\n",
    "\n",
    "plt.show()"
   ]
  },
  {
   "cell_type": "markdown",
   "metadata": {},
   "source": [
    "## Punto 4"
   ]
  },
  {
   "cell_type": "code",
   "execution_count": 11,
   "metadata": {},
   "outputs": [
    {
     "data": {
      "text/html": [
       "<div>\n",
       "<style scoped>\n",
       "    .dataframe tbody tr th:only-of-type {\n",
       "        vertical-align: middle;\n",
       "    }\n",
       "\n",
       "    .dataframe tbody tr th {\n",
       "        vertical-align: top;\n",
       "    }\n",
       "\n",
       "    .dataframe thead th {\n",
       "        text-align: right;\n",
       "    }\n",
       "</style>\n",
       "<table border=\"1\" class=\"dataframe\">\n",
       "  <thead>\n",
       "    <tr style=\"text-align: right;\">\n",
       "      <th>Speaker</th>\n",
       "      <th>Howard</th>\n",
       "      <th>Leonard</th>\n",
       "      <th>Penny</th>\n",
       "      <th>Raj</th>\n",
       "      <th>Sheldon</th>\n",
       "    </tr>\n",
       "    <tr>\n",
       "      <th>Location</th>\n",
       "      <th></th>\n",
       "      <th></th>\n",
       "      <th></th>\n",
       "      <th></th>\n",
       "      <th></th>\n",
       "    </tr>\n",
       "  </thead>\n",
       "  <tbody>\n",
       "    <tr>\n",
       "      <th>A Korean ballroom dancing club</th>\n",
       "      <td>NaN</td>\n",
       "      <td>NaN</td>\n",
       "      <td>2.0</td>\n",
       "      <td>NaN</td>\n",
       "      <td>NaN</td>\n",
       "    </tr>\n",
       "    <tr>\n",
       "      <th>A corridor at the conference</th>\n",
       "      <td>3.0</td>\n",
       "      <td>6.0</td>\n",
       "      <td>6.0</td>\n",
       "      <td>NaN</td>\n",
       "      <td>NaN</td>\n",
       "    </tr>\n",
       "    <tr>\n",
       "      <th>A corridor in the basement</th>\n",
       "      <td>6.0</td>\n",
       "      <td>NaN</td>\n",
       "      <td>NaN</td>\n",
       "      <td>6.0</td>\n",
       "      <td>NaN</td>\n",
       "    </tr>\n",
       "    <tr>\n",
       "      <th>A corridor in the university</th>\n",
       "      <td>1.0</td>\n",
       "      <td>4.0</td>\n",
       "      <td>NaN</td>\n",
       "      <td>2.0</td>\n",
       "      <td>1.0</td>\n",
       "    </tr>\n",
       "    <tr>\n",
       "      <th>A dance video game where the characters are imperial stormtroopers from Star Wars and Bobba Fett</th>\n",
       "      <td>3.0</td>\n",
       "      <td>3.0</td>\n",
       "      <td>NaN</td>\n",
       "      <td>4.0</td>\n",
       "      <td>7.0</td>\n",
       "    </tr>\n",
       "    <tr>\n",
       "      <th>...</th>\n",
       "      <td>...</td>\n",
       "      <td>...</td>\n",
       "      <td>...</td>\n",
       "      <td>...</td>\n",
       "      <td>...</td>\n",
       "    </tr>\n",
       "    <tr>\n",
       "      <th>The telescope lab</th>\n",
       "      <td>NaN</td>\n",
       "      <td>NaN</td>\n",
       "      <td>NaN</td>\n",
       "      <td>1.0</td>\n",
       "      <td>NaN</td>\n",
       "    </tr>\n",
       "    <tr>\n",
       "      <th>The top model house</th>\n",
       "      <td>4.0</td>\n",
       "      <td>NaN</td>\n",
       "      <td>NaN</td>\n",
       "      <td>1.0</td>\n",
       "      <td>NaN</td>\n",
       "    </tr>\n",
       "    <tr>\n",
       "      <th>The university cafeteria</th>\n",
       "      <td>23.0</td>\n",
       "      <td>33.0</td>\n",
       "      <td>NaN</td>\n",
       "      <td>22.0</td>\n",
       "      <td>42.0</td>\n",
       "    </tr>\n",
       "    <tr>\n",
       "      <th>Todd Zarnecki’s house</th>\n",
       "      <td>NaN</td>\n",
       "      <td>NaN</td>\n",
       "      <td>2.0</td>\n",
       "      <td>NaN</td>\n",
       "      <td>1.0</td>\n",
       "    </tr>\n",
       "    <tr>\n",
       "      <th>Vasquez Rocks</th>\n",
       "      <td>6.0</td>\n",
       "      <td>4.0</td>\n",
       "      <td>NaN</td>\n",
       "      <td>6.0</td>\n",
       "      <td>4.0</td>\n",
       "    </tr>\n",
       "  </tbody>\n",
       "</table>\n",
       "<p>131 rows × 5 columns</p>\n",
       "</div>"
      ],
      "text/plain": [
       "Speaker                                             Howard  Leonard  Penny  \\\n",
       "Location                                                                     \n",
       "A Korean ballroom dancing club                         NaN      NaN    2.0   \n",
       "A corridor at the conference                           3.0      6.0    6.0   \n",
       "A corridor in the basement                             6.0      NaN    NaN   \n",
       "A corridor in the university                           1.0      4.0    NaN   \n",
       "A dance video game where the characters are imp...     3.0      3.0    NaN   \n",
       "...                                                    ...      ...    ...   \n",
       "The telescope lab                                      NaN      NaN    NaN   \n",
       "The top model house                                    4.0      NaN    NaN   \n",
       "The university cafeteria                              23.0     33.0    NaN   \n",
       "Todd Zarnecki’s house                                  NaN      NaN    2.0   \n",
       "Vasquez Rocks                                          6.0      4.0    NaN   \n",
       "\n",
       "Speaker                                              Raj  Sheldon  \n",
       "Location                                                           \n",
       "A Korean ballroom dancing club                       NaN      NaN  \n",
       "A corridor at the conference                         NaN      NaN  \n",
       "A corridor in the basement                           6.0      NaN  \n",
       "A corridor in the university                         2.0      1.0  \n",
       "A dance video game where the characters are imp...   4.0      7.0  \n",
       "...                                                  ...      ...  \n",
       "The telescope lab                                    1.0      NaN  \n",
       "The top model house                                  1.0      NaN  \n",
       "The university cafeteria                            22.0     42.0  \n",
       "Todd Zarnecki’s house                                NaN      1.0  \n",
       "Vasquez Rocks                                        6.0      4.0  \n",
       "\n",
       "[131 rows x 5 columns]"
      ]
     },
     "execution_count": 11,
     "metadata": {},
     "output_type": "execute_result"
    }
   ],
   "source": [
    "#create pivot table\n",
    "df_pivot = pd.pivot_table(big_bang_df[~big_bang_df.Scene.isnull()], values='Scene', index='Location', columns='Speaker',\n",
    "                          aggfunc='count')\n",
    "df_pivot"
   ]
  },
  {
   "cell_type": "code",
   "execution_count": 12,
   "metadata": {},
   "outputs": [
    {
     "data": {
      "text/plain": [
       "<AxesSubplot: xlabel='Speaker', ylabel='Location'>"
      ]
     },
     "execution_count": 12,
     "metadata": {},
     "output_type": "execute_result"
    },
    {
     "data": {
      "image/png": "[encoded data removed]",
      "text/plain": [
       "<Figure size 1500x600 with 2 Axes>"
      ]
     },
     "metadata": {},
     "output_type": "display_data"
    }
   ],
   "source": [
    "fig, axs = plt.subplots(figsize=(15, 6))\n",
    "\n",
    "sns.heatmap(\n",
    "    df_pivot, \n",
    "    vmin=-1, vmax=1, center=0,\n",
    "    cmap=sns.diverging_palette(20, 220, n=200)\n",
    "    )"
   ]
  },
  {
   "attachments": {},
   "cell_type": "markdown",
   "metadata": {},
   "source": [
    "# Punto 5"
   ]
  },
  {
   "cell_type": "code",
   "execution_count": 34,
   "metadata": {},
   "outputs": [],
   "source": [
    "big_bang_df[\"said_panny\"] = [1 if \"Penny\" in x[2] else 0 for x in big_bang_df.values]"
   ]
  },
  {
   "cell_type": "code",
   "execution_count": 35,
   "metadata": {},
   "outputs": [
    {
     "data": {
      "text/plain": [
       "0    38068\n",
       "1      850\n",
       "Name: said_panny, dtype: int64"
      ]
     },
     "execution_count": 35,
     "metadata": {},
     "output_type": "execute_result"
    }
   ],
   "source": [
    "big_bang_df.said_panny.value_counts()"
   ]
  },
  {
   "cell_type": "code",
   "execution_count": 95,
   "metadata": {},
   "outputs": [],
   "source": [
    "big_bang_df_2 = big_bang_df.groupby(['Season','Speaker']).said_panny.agg(['sum']).reset_index()\n",
    "#big_bang_df_2[\"indice\"] = big_bang_df_2.groupby(['Season','Speaker','sum']).ngroup()\n",
    "big_bang_df_2[\"indice\"] = big_bang_df_2.groupby(['Speaker']).ngroup()\n",
    "big_bang_df_2[\"veces_Penny\"] = big_bang_df_2[\"sum\"]\n",
    "big_bang_df_2 = big_bang_df_2[['Season','Speaker','veces_Penny','indice']]"
   ]
  },
  {
   "cell_type": "code",
   "execution_count": 96,
   "metadata": {},
   "outputs": [
    {
     "data": {
      "text/html": [
       "<div>\n",
       "<style scoped>\n",
       "    .dataframe tbody tr th:only-of-type {\n",
       "        vertical-align: middle;\n",
       "    }\n",
       "\n",
       "    .dataframe tbody tr th {\n",
       "        vertical-align: top;\n",
       "    }\n",
       "\n",
       "    .dataframe thead th {\n",
       "        text-align: right;\n",
       "    }\n",
       "</style>\n",
       "<table border=\"1\" class=\"dataframe\">\n",
       "  <thead>\n",
       "    <tr style=\"text-align: right;\">\n",
       "      <th></th>\n",
       "      <th>Season</th>\n",
       "      <th>Speaker</th>\n",
       "      <th>veces_Penny</th>\n",
       "      <th>indice</th>\n",
       "    </tr>\n",
       "  </thead>\n",
       "  <tbody>\n",
       "    <tr>\n",
       "      <th>0</th>\n",
       "      <td>1</td>\n",
       "      <td>Howard</td>\n",
       "      <td>6</td>\n",
       "      <td>0</td>\n",
       "    </tr>\n",
       "    <tr>\n",
       "      <th>1</th>\n",
       "      <td>1</td>\n",
       "      <td>Leonard</td>\n",
       "      <td>62</td>\n",
       "      <td>1</td>\n",
       "    </tr>\n",
       "    <tr>\n",
       "      <th>2</th>\n",
       "      <td>1</td>\n",
       "      <td>Penny</td>\n",
       "      <td>5</td>\n",
       "      <td>2</td>\n",
       "    </tr>\n",
       "    <tr>\n",
       "      <th>3</th>\n",
       "      <td>1</td>\n",
       "      <td>Raj</td>\n",
       "      <td>6</td>\n",
       "      <td>3</td>\n",
       "    </tr>\n",
       "    <tr>\n",
       "      <th>4</th>\n",
       "      <td>1</td>\n",
       "      <td>Sheldon</td>\n",
       "      <td>40</td>\n",
       "      <td>4</td>\n",
       "    </tr>\n",
       "    <tr>\n",
       "      <th>5</th>\n",
       "      <td>2</td>\n",
       "      <td>Howard</td>\n",
       "      <td>8</td>\n",
       "      <td>0</td>\n",
       "    </tr>\n",
       "    <tr>\n",
       "      <th>6</th>\n",
       "      <td>2</td>\n",
       "      <td>Leonard</td>\n",
       "      <td>56</td>\n",
       "      <td>1</td>\n",
       "    </tr>\n",
       "    <tr>\n",
       "      <th>7</th>\n",
       "      <td>2</td>\n",
       "      <td>Penny</td>\n",
       "      <td>9</td>\n",
       "      <td>2</td>\n",
       "    </tr>\n",
       "    <tr>\n",
       "      <th>8</th>\n",
       "      <td>2</td>\n",
       "      <td>Raj</td>\n",
       "      <td>8</td>\n",
       "      <td>3</td>\n",
       "    </tr>\n",
       "    <tr>\n",
       "      <th>9</th>\n",
       "      <td>2</td>\n",
       "      <td>Sheldon</td>\n",
       "      <td>73</td>\n",
       "      <td>4</td>\n",
       "    </tr>\n",
       "    <tr>\n",
       "      <th>10</th>\n",
       "      <td>3</td>\n",
       "      <td>Howard</td>\n",
       "      <td>7</td>\n",
       "      <td>0</td>\n",
       "    </tr>\n",
       "    <tr>\n",
       "      <th>11</th>\n",
       "      <td>3</td>\n",
       "      <td>Leonard</td>\n",
       "      <td>52</td>\n",
       "      <td>1</td>\n",
       "    </tr>\n",
       "    <tr>\n",
       "      <th>12</th>\n",
       "      <td>3</td>\n",
       "      <td>Penny</td>\n",
       "      <td>3</td>\n",
       "      <td>2</td>\n",
       "    </tr>\n",
       "    <tr>\n",
       "      <th>13</th>\n",
       "      <td>3</td>\n",
       "      <td>Raj</td>\n",
       "      <td>7</td>\n",
       "      <td>3</td>\n",
       "    </tr>\n",
       "    <tr>\n",
       "      <th>14</th>\n",
       "      <td>3</td>\n",
       "      <td>Sheldon</td>\n",
       "      <td>59</td>\n",
       "      <td>4</td>\n",
       "    </tr>\n",
       "    <tr>\n",
       "      <th>15</th>\n",
       "      <td>4</td>\n",
       "      <td>Howard</td>\n",
       "      <td>5</td>\n",
       "      <td>0</td>\n",
       "    </tr>\n",
       "    <tr>\n",
       "      <th>16</th>\n",
       "      <td>4</td>\n",
       "      <td>Leonard</td>\n",
       "      <td>19</td>\n",
       "      <td>1</td>\n",
       "    </tr>\n",
       "    <tr>\n",
       "      <th>17</th>\n",
       "      <td>4</td>\n",
       "      <td>Penny</td>\n",
       "      <td>1</td>\n",
       "      <td>2</td>\n",
       "    </tr>\n",
       "    <tr>\n",
       "      <th>18</th>\n",
       "      <td>4</td>\n",
       "      <td>Raj</td>\n",
       "      <td>5</td>\n",
       "      <td>3</td>\n",
       "    </tr>\n",
       "    <tr>\n",
       "      <th>19</th>\n",
       "      <td>4</td>\n",
       "      <td>Sheldon</td>\n",
       "      <td>37</td>\n",
       "      <td>4</td>\n",
       "    </tr>\n",
       "  </tbody>\n",
       "</table>\n",
       "</div>"
      ],
      "text/plain": [
       "    Season  Speaker  veces_Penny  indice\n",
       "0        1   Howard            6       0\n",
       "1        1  Leonard           62       1\n",
       "2        1    Penny            5       2\n",
       "3        1      Raj            6       3\n",
       "4        1  Sheldon           40       4\n",
       "5        2   Howard            8       0\n",
       "6        2  Leonard           56       1\n",
       "7        2    Penny            9       2\n",
       "8        2      Raj            8       3\n",
       "9        2  Sheldon           73       4\n",
       "10       3   Howard            7       0\n",
       "11       3  Leonard           52       1\n",
       "12       3    Penny            3       2\n",
       "13       3      Raj            7       3\n",
       "14       3  Sheldon           59       4\n",
       "15       4   Howard            5       0\n",
       "16       4  Leonard           19       1\n",
       "17       4    Penny            1       2\n",
       "18       4      Raj            5       3\n",
       "19       4  Sheldon           37       4"
      ]
     },
     "execution_count": 96,
     "metadata": {},
     "output_type": "execute_result"
    }
   ],
   "source": [
    "big_bang_df_2.head(20)"
   ]
  },
  {
   "cell_type": "code",
   "execution_count": 97,
   "metadata": {},
   "outputs": [],
   "source": [
    "from sklearn.model_selection import train_test_split\n",
    "from sklearn.linear_model import LogisticRegression"
   ]
  },
  {
   "cell_type": "code",
   "execution_count": 175,
   "metadata": {},
   "outputs": [],
   "source": [
    "x_train, x_test, y_train, y_test = train_test_split(big_bang_df_2.indice, big_bang_df_2.veces_Penny, test_size=0.20, random_state=0)"
   ]
  },
  {
   "cell_type": "code",
   "execution_count": 176,
   "metadata": {},
   "outputs": [],
   "source": [
    "logisticRegr = LogisticRegression()"
   ]
  },
  {
   "cell_type": "code",
   "execution_count": 177,
   "metadata": {},
   "outputs": [
    {
     "data": {
      "text/plain": [
       "LogisticRegression()"
      ]
     },
     "execution_count": 177,
     "metadata": {},
     "output_type": "execute_result"
    }
   ],
   "source": [
    "logisticRegr.fit(x_train.values.reshape(-1,1), y_train)"
   ]
  },
  {
   "cell_type": "code",
   "execution_count": 178,
   "metadata": {},
   "outputs": [],
   "source": [
    "predictions = logisticRegr.predict(x_test.values.reshape(-1,1))"
   ]
  },
  {
   "cell_type": "code",
   "execution_count": 179,
   "metadata": {},
   "outputs": [
    {
     "name": "stdout",
     "output_type": "stream",
     "text": [
      "0.1\n"
     ]
    }
   ],
   "source": [
    "# Score method to get accuracy of model\n",
    "score = logisticRegr.score(x_test.values.reshape(-1,1), y_test)\n",
    "print(score)"
   ]
  },
  {
   "cell_type": "code",
   "execution_count": 180,
   "metadata": {},
   "outputs": [],
   "source": [
    "import matplotlib.pyplot as plt\n",
    "import seaborn as sns\n",
    "from sklearn import metrics"
   ]
  },
  {
   "cell_type": "code",
   "execution_count": 181,
   "metadata": {},
   "outputs": [
    {
     "name": "stdout",
     "output_type": "stream",
     "text": [
      "[[1 0 0 0 0 0 0 0 0]\n",
      " [1 0 0 0 0 0 0 0 0]\n",
      " [1 0 0 0 0 0 0 0 0]\n",
      " [1 0 0 0 0 0 0 0 0]\n",
      " [1 0 0 1 0 0 0 0 0]\n",
      " [0 0 0 1 0 0 0 0 0]\n",
      " [0 0 0 1 0 0 0 0 0]\n",
      " [0 0 0 0 0 1 0 0 0]\n",
      " [0 0 0 1 0 0 0 0 0]]\n"
     ]
    }
   ],
   "source": [
    "cm = metrics.confusion_matrix(y_test, predictions)\n",
    "print(cm)"
   ]
  },
  {
   "attachments": {},
   "cell_type": "markdown",
   "metadata": {},
   "source": [
    "El acurracy y los resultados del modelo son muy malos, ya que el modelo tiene muy pocos registros para conseguir un modelo que se ajuste a la variable dependiente"
   ]
  },
  {
   "attachments": {},
   "cell_type": "markdown",
   "metadata": {},
   "source": [
    "# JUST A QUICK VIEW OF THE GOD MODE"
   ]
  },
  {
   "cell_type": "code",
   "execution_count": 183,
   "metadata": {},
   "outputs": [],
   "source": [
    "from sklearn.preprocessing import OneHotEncoder"
   ]
  },
  {
   "cell_type": "code",
   "execution_count": 184,
   "metadata": {},
   "outputs": [],
   "source": [
    "ohe = OneHotEncoder()"
   ]
  },
  {
   "cell_type": "code",
   "execution_count": 185,
   "metadata": {},
   "outputs": [],
   "source": [
    "transformed = ohe.fit_transform(big_bang_df[['Speaker']])"
   ]
  },
  {
   "cell_type": "code",
   "execution_count": 186,
   "metadata": {},
   "outputs": [
    {
     "name": "stdout",
     "output_type": "stream",
     "text": [
      "[[0. 1. 0. 0. 0.]\n",
      " [0. 0. 0. 0. 1.]\n",
      " [0. 0. 0. 0. 1.]\n",
      " ...\n",
      " [1. 0. 0. 0. 0.]\n",
      " [0. 0. 0. 0. 1.]\n",
      " [0. 0. 0. 0. 1.]]\n"
     ]
    }
   ],
   "source": [
    "print(transformed.toarray())"
   ]
  }
 ],
 "metadata": {
  "kernelspec": {
   "display_name": "Python 3.10.8 64-bit (microsoft store)",
   "language": "python",
   "name": "python3"
  },
  "language_info": {
   "codemirror_mode": {
    "name": "ipython",
    "version": 3
   },
   "file_extension": ".py",
   "mimetype": "text/x-python",
   "name": "python",
   "nbconvert_exporter": "python",
   "pygments_lexer": "ipython3",
   "version": "3.10.9 (tags/v3.10.9:1dd9be6, Dec  6 2022, 20:01:21) [MSC v.1934 64 bit (AMD64)]"
  },
  "orig_nbformat": 4,
  "vscode": {
   "interpreter": {
    "hash": "624741679a3ae5d99cecf49b8df5d516a7a937e6e7328e129d1fa121c8592e26"
   }
  }
 },
 "nbformat": 4,
 "nbformat_minor": 2
}
